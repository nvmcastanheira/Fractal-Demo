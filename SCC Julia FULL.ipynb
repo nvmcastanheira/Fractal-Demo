{
 "cells": [
  {
   "cell_type": "markdown",
   "id": "79835f8c-10b9-4a1e-9bf6-fac5ef3e9b58",
   "metadata": {},
   "source": [
    "# Introduction to Julia for Scientific Computing"
   ]
  },
  {
   "cell_type": "markdown",
   "id": "05a05af3-f573-483a-bc14-a21760683b60",
   "metadata": {},
   "source": [
    "## Variables and Datatypes"
   ]
  },
  {
   "cell_type": "markdown",
   "id": "595bfec0-8a4e-4cab-a558-cf61d6da658e",
   "metadata": {},
   "source": [
    "Assigning values to variables is most analogous to Python or MATLAB. Julia is dynamically-typed, meaning that types are checked at run-time; i.e, types don't need to be explicitly specified. Variables are case-sensitive and UTF-8 encoding is allowed."
   ]
  },
  {
   "cell_type": "code",
   "execution_count": 54,
   "id": "622ad050-c076-43ff-a2ac-cd6cb7f1e5cb",
   "metadata": {},
   "outputs": [
    {
     "data": {
      "text/plain": [
       "7"
      ]
     },
     "execution_count": 54,
     "metadata": {},
     "output_type": "execute_result"
    }
   ],
   "source": [
    "#Julia prints out a variable if it's the last line of the cell. This can be mitigated by typing \";\" after a variable assignment.\n",
    "x = 7;\n",
    "x #try x+1"
   ]
  },
  {
   "cell_type": "code",
   "execution_count": 55,
   "id": "9ddfafd2-1f36-48d6-85e5-6957d3cb4709",
   "metadata": {},
   "outputs": [
    {
     "name": "stdout",
     "output_type": "stream",
     "text": [
      "7\n"
     ]
    }
   ],
   "source": [
    "println(x)"
   ]
  },
  {
   "cell_type": "code",
   "execution_count": 56,
   "id": "5bb3bdf2-4227-4dab-9349-c490dd084870",
   "metadata": {},
   "outputs": [
    {
     "name": "stdout",
     "output_type": "stream",
     "text": [
      "8\n"
     ]
    }
   ],
   "source": [
    "x = x+1;\n",
    "println(x)"
   ]
  },
  {
   "cell_type": "code",
   "execution_count": 57,
   "id": "c91022f2-350d-4b52-b0a7-bcf425244552",
   "metadata": {},
   "outputs": [
    {
     "name": "stdout",
     "output_type": "stream",
     "text": [
      "9\n"
     ]
    }
   ],
   "source": [
    "x += 1;\n",
    "println(x)"
   ]
  },
  {
   "cell_type": "markdown",
   "id": "d4e37264-cc63-4214-951f-59f4f144e934",
   "metadata": {},
   "source": [
    "We can check the type of a variable with the \"typeof\" function."
   ]
  },
  {
   "cell_type": "code",
   "execution_count": 60,
   "id": "c2021b41-604c-4f7e-bc40-0aec4ad0c20e",
   "metadata": {},
   "outputs": [
    {
     "name": "stdout",
     "output_type": "stream",
     "text": [
      "Float64\n",
      "Int64\n"
     ]
    }
   ],
   "source": [
    "ρ = 1.;\n",
    "println(typeof(ρ))\n",
    "println(typeof(x))"
   ]
  },
  {
   "cell_type": "markdown",
   "id": "c3e6e01f-d101-4bc8-b3c3-7bdc13483565",
   "metadata": {},
   "source": [
    "Julia lets you redefine built-in constants or functions"
   ]
  },
  {
   "cell_type": "markdown",
   "id": "342f048e-c05f-40a5-8c3d-58c29d2bab54",
   "metadata": {},
   "source": [
    "## Operations"
   ]
  },
  {
   "cell_type": "code",
   "execution_count": null,
   "id": "423aaadf-9c3d-4f01-9cfa-b823e561482f",
   "metadata": {},
   "outputs": [],
   "source": []
  },
  {
   "cell_type": "markdown",
   "id": "b8cf48a8-e73c-433a-9930-37cc31e59edb",
   "metadata": {},
   "source": [
    "## Control Flow"
   ]
  },
  {
   "cell_type": "code",
   "execution_count": null,
   "id": "9467a579-1cb7-476c-ab7a-0b4e6f38a4c1",
   "metadata": {},
   "outputs": [],
   "source": []
  },
  {
   "cell_type": "markdown",
   "id": "110338e0-ae48-46fe-ae4d-eb248c4d4b9a",
   "metadata": {},
   "source": [
    "## Functions/Methods and Multiple Dispatch"
   ]
  },
  {
   "cell_type": "code",
   "execution_count": null,
   "id": "162aeec0-6db5-4491-ac8c-51f57359e5ea",
   "metadata": {},
   "outputs": [],
   "source": []
  },
  {
   "cell_type": "markdown",
   "id": "2e7ca2bb-276b-426e-8913-cc083dd3f847",
   "metadata": {},
   "source": [
    "## Constructors"
   ]
  },
  {
   "cell_type": "code",
   "execution_count": null,
   "id": "57475e31-3083-4ed3-8505-fa26e34430ca",
   "metadata": {},
   "outputs": [],
   "source": []
  },
  {
   "cell_type": "markdown",
   "id": "6ba87a5f-36c3-44be-8f17-56dca332b698",
   "metadata": {},
   "source": [
    "## Working With Arrays"
   ]
  },
  {
   "cell_type": "code",
   "execution_count": null,
   "id": "f9c3e94a-5779-4365-8105-f4a3c460c579",
   "metadata": {},
   "outputs": [],
   "source": []
  },
  {
   "cell_type": "markdown",
   "id": "64ba38e5-1073-4b71-971a-9f0399524602",
   "metadata": {},
   "source": [
    "## Packages and Basic Numerical Methods"
   ]
  },
  {
   "cell_type": "code",
   "execution_count": null,
   "id": "1bf8cae2-eb98-40d0-9d0a-eccc6c8bb99a",
   "metadata": {},
   "outputs": [],
   "source": []
  },
  {
   "cell_type": "markdown",
   "id": "fe494e68-2e40-4052-aaad-caac7fd8b02c",
   "metadata": {},
   "source": [
    "# Extra"
   ]
  },
  {
   "cell_type": "code",
   "execution_count": null,
   "id": "544234d9-d530-4459-921a-2ffe23bdfd53",
   "metadata": {},
   "outputs": [],
   "source": []
  },
  {
   "cell_type": "markdown",
   "id": "ed485f44-9b90-4918-ae29-baa3e25f6f07",
   "metadata": {},
   "source": [
    "## Serial Code"
   ]
  },
  {
   "cell_type": "code",
   "execution_count": null,
   "id": "e575fa4a-fce3-44eb-a6b4-f24ac448d2af",
   "metadata": {},
   "outputs": [],
   "source": []
  },
  {
   "cell_type": "markdown",
   "id": "88d6521e-0b30-451c-8b94-e2dd105d9a5f",
   "metadata": {},
   "source": [
    "## Julia's Compiler and Type-inference Algorithm"
   ]
  },
  {
   "cell_type": "code",
   "execution_count": null,
   "id": "5516eae7-175b-477e-82b6-932b8e77230f",
   "metadata": {},
   "outputs": [],
   "source": []
  }
 ],
 "metadata": {
  "kernelspec": {
   "display_name": "Julia 1.5.3",
   "language": "julia",
   "name": "julia-1.5"
  },
  "language_info": {
   "file_extension": ".jl",
   "mimetype": "application/julia",
   "name": "julia",
   "version": "1.5.3"
  }
 },
 "nbformat": 4,
 "nbformat_minor": 5
}
